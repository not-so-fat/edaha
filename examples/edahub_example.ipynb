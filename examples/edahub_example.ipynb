{
 "cells": [
  {
   "cell_type": "markdown",
   "id": "713ae856-54f9-4409-8bee-69af179a4026",
   "metadata": {},
   "source": [
    "# Installation"
   ]
  },
  {
   "cell_type": "code",
   "execution_count": null,
   "id": "a50aecf6-0007-4234-bca1-59753e61516f",
   "metadata": {
    "scrolled": true
   },
   "outputs": [],
   "source": [
    "!pip install edahub"
   ]
  },
  {
   "cell_type": "markdown",
   "id": "66cd6200-845e-4805-97bf-5b577024755b",
   "metadata": {},
   "source": [
    "# Load Example Data as Pandas.DataFrame\n",
    "\n",
    "here we use scikit learn example dataset"
   ]
  },
  {
   "cell_type": "code",
   "execution_count": null,
   "id": "247486bd-f1b9-4804-b69f-a1f5afd05fce",
   "metadata": {
    "scrolled": true
   },
   "outputs": [],
   "source": [
    "!pip install scikit-learn"
   ]
  },
  {
   "cell_type": "code",
   "execution_count": null,
   "id": "47330a66-deb4-4a01-99ff-c6845aaf212d",
   "metadata": {},
   "outputs": [],
   "source": [
    "import pandas\n",
    "from sklearn import datasets\n",
    "\n",
    "\n",
    "def get_df(dataset):\n",
    "    return pandas.DataFrame(dataset[\"data\"], columns=dataset[\"feature_names\"])\n",
    "\n",
    "\n",
    "df_iris = get_df(datasets.load_iris())\n",
    "df_diabetes = get_df(datasets.load_diabetes())"
   ]
  },
  {
   "cell_type": "markdown",
   "id": "81aeb97c-ac78-41ad-9f51-903da10bdd66",
   "metadata": {},
   "source": [
    "# Load Data to Get Basic Data Summary"
   ]
  },
  {
   "cell_type": "code",
   "execution_count": null,
   "id": "d5ac3619-fe76-4dc0-8726-e727d78cc73f",
   "metadata": {},
   "outputs": [],
   "source": [
    "import edahub"
   ]
  },
  {
   "cell_type": "code",
   "execution_count": null,
   "id": "aeccb15e-b1be-4065-8a92-e49c9c021bd9",
   "metadata": {},
   "outputs": [],
   "source": [
    "# this will set the widget on the right side\n",
    "eda = edahub.EDAHub()"
   ]
  },
  {
   "cell_type": "code",
   "execution_count": null,
   "id": "19c5f1d6-374a-4fa0-8a3c-2c2dc95f1cf3",
   "metadata": {},
   "outputs": [],
   "source": [
    "eda.add_table(\"iris\", df_iris)"
   ]
  },
  {
   "cell_type": "code",
   "execution_count": null,
   "id": "03c01c2c-76aa-4866-8157-4bfe281e34ea",
   "metadata": {},
   "outputs": [],
   "source": [
    "eda.add_table(\"diabetes\", df_diabetes)"
   ]
  },
  {
   "cell_type": "markdown",
   "id": "dcfd9498-27a2-4479-aa8d-4f8bf30f1a21",
   "metadata": {},
   "source": [
    "# Save Your Chart on the Widget\n",
    "\n",
    "Please put some object which can be displayed. For example, `matplotlib.figure.Figure` or `altair.Chart`"
   ]
  },
  {
   "cell_type": "code",
   "execution_count": null,
   "id": "eb9908da-5cb3-424d-8ce6-8ba52a9e04e6",
   "metadata": {},
   "outputs": [],
   "source": [
    "import pandas\n",
    "import altair as alt\n",
    "\n",
    "\n",
    "altair_max_rows = 5000\n",
    "\n",
    "\n",
    "def plot_scatter(df, column_x, column_y):\n",
    "    title = \"{} vs {} (Scatter)\".format(column_y, column_x)\n",
    "    return alt.Chart(df).mark_circle().encode(\n",
    "        x=alt.X(column_x),\n",
    "        y=alt.Y(column_y),\n",
    "        tooltip=[column_x, column_y]\n",
    "    ).properties(title=title).interactive()"
   ]
  },
  {
   "cell_type": "code",
   "execution_count": null,
   "id": "ec9e1a2a-3151-4f9c-9d45-ce1538513ab7",
   "metadata": {},
   "outputs": [],
   "source": [
    "chart1 = plot_scatter(df_diabetes, \"age\", \"bp\")\n",
    "chart1"
   ]
  },
  {
   "cell_type": "code",
   "execution_count": null,
   "id": "a52cc1e7-6d2c-462f-9456-1142a625b82f",
   "metadata": {},
   "outputs": [],
   "source": [
    "chart2 = plot_scatter(df_diabetes, \"bmi\", \"bp\")\n",
    "chart2"
   ]
  },
  {
   "cell_type": "code",
   "execution_count": null,
   "id": "71d83c8b-59f2-437b-81ef-592dc1ad6ac6",
   "metadata": {},
   "outputs": [],
   "source": [
    "# You can put your chart object, as long as it can bedisplayed by display(your_obj)\n",
    "eda.add_chart(\"diabetes\", chart1)\n",
    "eda.add_chart(\"diabetes\", chart2)"
   ]
  },
  {
   "cell_type": "code",
   "execution_count": null,
   "id": "2ebded48-b4ec-4ddc-a43f-d8fa9d014aae",
   "metadata": {},
   "outputs": [],
   "source": [
    "# you can add chart in different group\n",
    "chart3 = plot_scatter(df_iris, \"sepal length (cm)\", \"petal length (cm)\")\n",
    "eda.add_chart(\"iris\", chart3)"
   ]
  },
  {
   "cell_type": "markdown",
   "id": "10f58c6b-f60f-4a62-a966-80bb0dfb5547",
   "metadata": {},
   "source": [
    "# Export the widget as HTML\n",
    "\n",
    "You can review this widget without Jupyter"
   ]
  },
  {
   "cell_type": "code",
   "execution_count": null,
   "id": "1debb162-943d-4edc-b54f-501be51a3882",
   "metadata": {},
   "outputs": [],
   "source": [
    "eda.export_html(\"edahub_widget.html\")"
   ]
  },
  {
   "cell_type": "code",
   "execution_count": null,
   "id": "255f56c8-4039-4bec-9ea5-7c3f7e256c39",
   "metadata": {},
   "outputs": [],
   "source": []
  }
 ],
 "metadata": {
  "kernelspec": {
   "display_name": "Python 3 (ipykernel)",
   "language": "python",
   "name": "python3"
  },
  "language_info": {
   "codemirror_mode": {
    "name": "ipython",
    "version": 3
   },
   "file_extension": ".py",
   "mimetype": "text/x-python",
   "name": "python",
   "nbconvert_exporter": "python",
   "pygments_lexer": "ipython3",
   "version": "3.10.12"
  }
 },
 "nbformat": 4,
 "nbformat_minor": 5
}
