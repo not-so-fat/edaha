{
 "cells": [
  {
   "cell_type": "code",
   "execution_count": null,
   "id": "a50aecf6-0007-4234-bca1-59753e61516f",
   "metadata": {
    "scrolled": true
   },
   "outputs": [],
   "source": [
    "!pip install scikit-learn matplotlib seaborn"
   ]
  },
  {
   "cell_type": "code",
   "execution_count": null,
   "id": "18eee19c-8150-4039-b665-e9c2abd91eb2",
   "metadata": {},
   "outputs": [],
   "source": [
    "import pandas\n",
    "import altair as alt\n",
    "import matplotlib.pyplot as plt\n",
    "import seaborn as sns\n",
    "\n",
    "\n",
    "altair_max_rows = 5000\n",
    "\n",
    "\n",
    "def plot_altair(df, column_x, column_y):\n",
    "    title = \"{} vs {} (Scatter)\".format(column_y, column_x)\n",
    "    return alt.Chart(df).mark_circle().encode(\n",
    "        x=alt.X(column_x),\n",
    "        y=alt.Y(column_y),\n",
    "        tooltip=[column_x, column_y]\n",
    "    ).properties(title=title).interactive()\n",
    "\n",
    "\n",
    "def plot_matplotlib(df, column_x, column_y):\n",
    "    fig, ax = plt.subplots(figsize=(8, 6))\n",
    "    ax.scatter(df[column_x], df[column_y])\n",
    "    ax.set_title(f\"{column_y} vs {column_x} (Scatter)\")\n",
    "    ax.set_xlabel(column_x)\n",
    "    ax.set_ylabel(column_y)\n",
    "    ax.grid(True)\n",
    "    return fig\n",
    "\n",
    "\n",
    "def plot_seaborn(df, column_x, column_y):\n",
    "    plt.figure()\n",
    "    g = sns.scatterplot(data=df, x=column_x, y=column_y)\n",
    "    # Customize plot (optional)\n",
    "    g.set_title(f\"{column_y} vs {column_x} (Scatter)\")\n",
    "    g.set_xlabel(column_x)\n",
    "    g.set_ylabel(column_y)\n",
    "    return g.figure"
   ]
  },
  {
   "cell_type": "code",
   "execution_count": null,
   "id": "47330a66-deb4-4a01-99ff-c6845aaf212d",
   "metadata": {},
   "outputs": [],
   "source": [
    "def get_df(dataset):\n",
    "    return pandas.DataFrame(dataset[\"data\"], columns=dataset[\"feature_names\"])"
   ]
  },
  {
   "cell_type": "code",
   "execution_count": null,
   "id": "2ee7176c-4422-4258-8244-e867b4f11706",
   "metadata": {},
   "outputs": [],
   "source": [
    "from sklearn import datasets\n",
    "\n",
    "\n",
    "df_iris = get_df(datasets.load_iris())\n",
    "df_diabetes = get_df(datasets.load_diabetes())"
   ]
  },
  {
   "cell_type": "code",
   "execution_count": null,
   "id": "ecc4ff08-adda-4fce-a8d7-ad342d9b8681",
   "metadata": {},
   "outputs": [],
   "source": [
    "import edahub"
   ]
  },
  {
   "cell_type": "code",
   "execution_count": null,
   "id": "aeccb15e-b1be-4065-8a92-e49c9c021bd9",
   "metadata": {},
   "outputs": [],
   "source": [
    "eda = edahub.EDAHub()"
   ]
  },
  {
   "cell_type": "code",
   "execution_count": null,
   "id": "19c5f1d6-374a-4fa0-8a3c-2c2dc95f1cf3",
   "metadata": {},
   "outputs": [],
   "source": [
    "eda.add_table(\"iris\", df_iris)"
   ]
  },
  {
   "cell_type": "code",
   "execution_count": null,
   "id": "03c01c2c-76aa-4866-8157-4bfe281e34ea",
   "metadata": {},
   "outputs": [],
   "source": [
    "eda.add_table(\"diabetes\", df_diabetes)"
   ]
  },
  {
   "cell_type": "code",
   "execution_count": null,
   "id": "ec9e1a2a-3151-4f9c-9d45-ce1538513ab7",
   "metadata": {},
   "outputs": [],
   "source": [
    "chart1 = plot_altair(df_diabetes, \"age\", \"bp\")\n",
    "chart2 = plot_altair(df_diabetes, \"bmi\", \"bp\")\n",
    "eda.add_chart(\"altair\", chart1)\n",
    "eda.add_chart(\"altair\", chart2)"
   ]
  },
  {
   "cell_type": "code",
   "execution_count": null,
   "id": "dd745514-118a-4195-a6b4-5f5991733bcc",
   "metadata": {},
   "outputs": [],
   "source": [
    "chart1 = plot_matplotlib(df_diabetes, \"age\", \"bp\")\n",
    "chart2 = plot_matplotlib(df_diabetes, \"bmi\", \"bp\")\n",
    "eda.add_chart(\"matplotlib\", chart1)\n",
    "eda.add_chart(\"matplotlib\", chart2)"
   ]
  },
  {
   "cell_type": "code",
   "execution_count": null,
   "id": "d5aa07ef-961f-41b8-a3c0-1b57e87cceb3",
   "metadata": {
    "scrolled": true
   },
   "outputs": [],
   "source": [
    "chart1 = plot_seaborn(df_diabetes, \"age\", \"bp\")\n",
    "display(chart1)\n",
    "chart2 = plot_seaborn(df_diabetes, \"bmi\", \"bp\")\n",
    "display(chart2)\n",
    "eda.add_chart(\"seaborn\", chart1)\n",
    "eda.add_chart(\"seaborn\", chart2)"
   ]
  },
  {
   "cell_type": "code",
   "execution_count": null,
   "id": "15d91690-76c6-4941-a791-b5325f67c5d3",
   "metadata": {},
   "outputs": [],
   "source": [
    "eda.export_html(\"test_export.html\")"
   ]
  },
  {
   "cell_type": "code",
   "execution_count": null,
   "id": "2c061a26-92c3-4b7f-8812-0252a1bdb483",
   "metadata": {},
   "outputs": [],
   "source": []
  }
 ],
 "metadata": {
  "kernelspec": {
   "display_name": "Python 3 (ipykernel)",
   "language": "python",
   "name": "python3"
  },
  "language_info": {
   "codemirror_mode": {
    "name": "ipython",
    "version": 3
   },
   "file_extension": ".py",
   "mimetype": "text/x-python",
   "name": "python",
   "nbconvert_exporter": "python",
   "pygments_lexer": "ipython3",
   "version": "3.10.12"
  }
 },
 "nbformat": 4,
 "nbformat_minor": 5
}
