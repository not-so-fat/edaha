{
 "cells": [
  {
   "cell_type": "code",
   "execution_count": null,
   "id": "a50aecf6-0007-4234-bca1-59753e61516f",
   "metadata": {
    "scrolled": true
   },
   "outputs": [],
   "source": [
    "!pip install scikit-learn rumor_view"
   ]
  },
  {
   "cell_type": "code",
   "execution_count": null,
   "id": "18eee19c-8150-4039-b665-e9c2abd91eb2",
   "metadata": {},
   "outputs": [],
   "source": [
    "import pandas\n",
    "import altair as alt\n",
    "\n",
    "\n",
    "altair_max_rows = 5000\n",
    "\n",
    "\n",
    "def plot_scatter(df, column_x, column_y):\n",
    "    title = \"{} vs {} (Scatter)\".format(column_y, column_x)\n",
    "    return alt.Chart(df).mark_circle().encode(\n",
    "        x=alt.X(column_x),\n",
    "        y=alt.Y(column_y),\n",
    "        tooltip=[column_x, column_y]\n",
    "    ).properties(title=title).interactive()"
   ]
  },
  {
   "cell_type": "code",
   "execution_count": null,
   "id": "47330a66-deb4-4a01-99ff-c6845aaf212d",
   "metadata": {},
   "outputs": [],
   "source": [
    "def get_df(dataset):\n",
    "    return pandas.DataFrame(dataset[\"data\"], columns=dataset[\"feature_names\"])"
   ]
  },
  {
   "cell_type": "code",
   "execution_count": null,
   "id": "2ee7176c-4422-4258-8244-e867b4f11706",
   "metadata": {},
   "outputs": [],
   "source": [
    "from sklearn import datasets\n",
    "\n",
    "\n",
    "df_iris = get_df(datasets.load_iris())\n",
    "df_diabetes = get_df(datasets.load_diabetes())"
   ]
  },
  {
   "cell_type": "code",
   "execution_count": null,
   "id": "ecc4ff08-adda-4fce-a8d7-ad342d9b8681",
   "metadata": {},
   "outputs": [],
   "source": [
    "import edahub"
   ]
  },
  {
   "cell_type": "code",
   "execution_count": null,
   "id": "aeccb15e-b1be-4065-8a92-e49c9c021bd9",
   "metadata": {},
   "outputs": [],
   "source": [
    "eda = edahub.EDAHub()"
   ]
  },
  {
   "cell_type": "code",
   "execution_count": null,
   "id": "19c5f1d6-374a-4fa0-8a3c-2c2dc95f1cf3",
   "metadata": {},
   "outputs": [],
   "source": [
    "eda.add_table(\"iris\", df_iris)"
   ]
  },
  {
   "cell_type": "code",
   "execution_count": null,
   "id": "03c01c2c-76aa-4866-8157-4bfe281e34ea",
   "metadata": {},
   "outputs": [],
   "source": [
    "eda.add_table(\"diabetes\", df_diabetes)"
   ]
  },
  {
   "cell_type": "code",
   "execution_count": null,
   "id": "ec9e1a2a-3151-4f9c-9d45-ce1538513ab7",
   "metadata": {},
   "outputs": [],
   "source": [
    "chart1 = plot_scatter(df_diabetes, \"age\", \"bp\")\n",
    "chart1"
   ]
  },
  {
   "cell_type": "code",
   "execution_count": null,
   "id": "a52cc1e7-6d2c-462f-9456-1142a625b82f",
   "metadata": {},
   "outputs": [],
   "source": [
    "chart2 = plot_scatter(df_diabetes, \"bmi\", \"bp\")\n",
    "chart2"
   ]
  },
  {
   "cell_type": "code",
   "execution_count": null,
   "id": "71d83c8b-59f2-437b-81ef-592dc1ad6ac6",
   "metadata": {},
   "outputs": [],
   "source": [
    "eda.add_chart(\"diabetes\", chart1)\n",
    "eda.add_chart(\"diabetes\", chart2)"
   ]
  },
  {
   "cell_type": "code",
   "execution_count": null,
   "id": "c90c14f4-7879-446a-b2f3-2aaf04c7343d",
   "metadata": {},
   "outputs": [],
   "source": [
    "import rumor_view\n",
    "\n",
    "\n",
    "rview = rumor_view.RumorView(df_iris)\n",
    "chart3 = rview.show_columns()\n",
    "chart3"
   ]
  },
  {
   "cell_type": "code",
   "execution_count": null,
   "id": "dd745514-118a-4195-a6b4-5f5991733bcc",
   "metadata": {},
   "outputs": [],
   "source": [
    "eda.add_chart(\"iris\", chart3)"
   ]
  },
  {
   "cell_type": "code",
   "execution_count": null,
   "id": "a77542d2-cead-4899-bf11-b96f201aa9d5",
   "metadata": {},
   "outputs": [],
   "source": []
  }
 ],
 "metadata": {
  "kernelspec": {
   "display_name": "Python 3 (ipykernel)",
   "language": "python",
   "name": "python3"
  },
  "language_info": {
   "codemirror_mode": {
    "name": "ipython",
    "version": 3
   },
   "file_extension": ".py",
   "mimetype": "text/x-python",
   "name": "python",
   "nbconvert_exporter": "python",
   "pygments_lexer": "ipython3",
   "version": "3.10.12"
  }
 },
 "nbformat": 4,
 "nbformat_minor": 5
}
